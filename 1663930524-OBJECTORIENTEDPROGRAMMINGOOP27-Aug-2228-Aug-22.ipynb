{
 "cells": [
  {
   "cell_type": "markdown",
   "metadata": {},
   "source": [
    "# OBJECT ORIENTED PROGRAMMING(OOP)"
   ]
  },
  {
   "cell_type": "code",
   "execution_count": 4,
   "metadata": {},
   "outputs": [
    {
     "name": "stdout",
     "output_type": "stream",
     "text": [
      "enter your nameTanu\n",
      "enter your last nameSharma\n",
      "enter your mobile no9811091940\n",
      "enter city nameDelhi\n",
      "enter valid user idTS\n",
      "chose your password0000\n"
     ]
    }
   ],
   "source": [
    "class Account:  # class\n",
    "    \n",
    "    def __init__(self,Name=input('enter your name'),\n",
    "                      last_name=input('enter your last name'),\n",
    "                      Mobile_No=input('enter your mobile no'),\n",
    "                      city=input('enter city name'),\n",
    "                      user_id=input('enter valid user id'),\n",
    "                      password=input('chose your password')):\n",
    "        self.Name=Name\n",
    "        self.last_name=last_name\n",
    "        self.Mobile_No=Mobile_No\n",
    "        self.city=city\n",
    "        self.password=password\n",
    "        self.user_id=user_id\n",
    "    \n",
    "    def login(self):\n",
    "        while True:\n",
    "            sign_in=input('user_id-')\n",
    "            password=input('password')\n",
    "            if sign_in==self.user_id and password == self.password:\n",
    "                print('successfully logged in')\n",
    "                break\n",
    "            else:\n",
    "                print('please enter correct user id/password')\n",
    "                continue\n",
    "                "
   ]
  },
  {
   "cell_type": "code",
   "execution_count": 5,
   "metadata": {},
   "outputs": [],
   "source": [
    "bank=Account()"
   ]
  },
  {
   "cell_type": "code",
   "execution_count": 6,
   "metadata": {},
   "outputs": [
    {
     "name": "stdout",
     "output_type": "stream",
     "text": [
      "user_id-TS\n",
      "password0000\n",
      "successfully logged in\n"
     ]
    }
   ],
   "source": [
    "bank.login()"
   ]
  },
  {
   "cell_type": "markdown",
   "metadata": {},
   "source": [
    "# 28-Aug-22   -        INHERITANCE"
   ]
  },
  {
   "cell_type": "markdown",
   "metadata": {},
   "source": [
    "Once class is defined it models a concept. it is useful to extend a class behaviour to model a less general concept. Say we need to copy old properties of old account and add new property/attributes and create a new version of account\n",
    "\n",
    "- Create new clas\n",
    "- use old class\n",
    "- Merge both the call using SUPER method"
   ]
  },
  {
   "cell_type": "code",
   "execution_count": 2,
   "metadata": {},
   "outputs": [
    {
     "ename": "NameError",
     "evalue": "name 'Account' is not defined",
     "output_type": "error",
     "traceback": [
      "\u001b[1;31m---------------------------------------------------------------------------\u001b[0m",
      "\u001b[1;31mNameError\u001b[0m                                 Traceback (most recent call last)",
      "\u001b[1;32m<ipython-input-2-2391e77f84bd>\u001b[0m in \u001b[0;36m<module>\u001b[1;34m()\u001b[0m\n\u001b[1;32m----> 1\u001b[1;33m \u001b[1;32mclass\u001b[0m \u001b[0muser_account\u001b[0m\u001b[1;33m(\u001b[0m\u001b[0mAccount\u001b[0m\u001b[1;33m)\u001b[0m\u001b[1;33m:\u001b[0m         \u001b[1;31m## user_account is new class and Account is old class picked from above syntax\u001b[0m\u001b[1;33m\u001b[0m\u001b[0m\n\u001b[0m\u001b[0;32m      2\u001b[0m     \u001b[1;32mdef\u001b[0m \u001b[0m__init__\u001b[0m \u001b[1;33m(\u001b[0m\u001b[0mself\u001b[0m\u001b[1;33m,\u001b[0m\u001b[0macc_no\u001b[0m\u001b[1;33m,\u001b[0m \u001b[0mbalance\u001b[0m\u001b[1;33m,\u001b[0m \u001b[1;33m*\u001b[0m\u001b[0margs\u001b[0m\u001b[1;33m)\u001b[0m\u001b[1;33m:\u001b[0m\u001b[1;33m\u001b[0m\u001b[0m\n\u001b[0;32m      3\u001b[0m         \u001b[0msuper\u001b[0m \u001b[1;33m(\u001b[0m\u001b[0muser_account\u001b[0m\u001b[1;33m,\u001b[0m\u001b[0mself\u001b[0m\u001b[1;33m)\u001b[0m\u001b[1;33m.\u001b[0m\u001b[0m__init__\u001b[0m\u001b[1;33m(\u001b[0m\u001b[1;33m*\u001b[0m\u001b[0margs\u001b[0m\u001b[1;33m)\u001b[0m\u001b[1;33m\u001b[0m\u001b[0m\n\u001b[0;32m      4\u001b[0m         \u001b[0mself\u001b[0m\u001b[1;33m.\u001b[0m\u001b[0macc_no\u001b[0m\u001b[1;33m=\u001b[0m\u001b[0macc_no\u001b[0m\u001b[1;33m\u001b[0m\u001b[0m\n\u001b[0;32m      5\u001b[0m         \u001b[0mself\u001b[0m\u001b[1;33m.\u001b[0m\u001b[0mbalance\u001b[0m\u001b[1;33m=\u001b[0m\u001b[0mbalance\u001b[0m\u001b[1;33m\u001b[0m\u001b[0m\n",
      "\u001b[1;31mNameError\u001b[0m: name 'Account' is not defined"
     ]
    }
   ],
   "source": [
    "class user_account(Account):         ## user_account is new class and Account is old class picked from above syntax\n",
    "    def __init__ (self,acc_no, balance, *args):\n",
    "        super (user_account,self).__init__(*args)\n",
    "        self.acc_no=acc_no\n",
    "        self.balance=balance\n",
    "        \n",
    "    def user_details(self):\n",
    "        while True:\n",
    "            account=int(input('Enter your account no'))\n",
    "            if account ==self.acc.no:\n",
    "                print('Name = ',self.Name)\n",
    "                print('Acc_no =',self.acc_no)\n",
    "                print('your balance =',self.balance)\n",
    "                break\n",
    "            else:\n",
    "                print('please enter valid account details')\n",
    "                continue \n",
    "        \n",
    "       \n",
    "    def deposit(self):\n",
    "        print('your previous balance is ',self.balance)\n",
    "        \n",
    "        add_cash=int(input('Deposit = ',))\n",
    "        self.balance+=add_cash\n",
    "        print('\\n HDFC bank : Rs',add_cash,'deposited to your account ',self.acc_no,'\\n your updated balance is ',self.balance)\n",
    "        \n",
    "    def transfer(self):\n",
    "        print('your account balance is ',self.balance)\n",
    "        \n",
    "        withdraw=int(input('how much you want to transfer ', ))\n",
    "        if withdraw <= self.balance:\n",
    "            self.balance-=withdraw\n",
    "            print('\\n HDFC bank : Rs',withdraw,'debited to your account ',self.acc_no,'\\n your updated balance is ',self.balance)\n",
    "        \n",
    "        else:\n",
    "            print('Alert-hello ',self.name,' you dont have sufficient balance, please retry with lesser amount')"
   ]
  },
  {
   "cell_type": "code",
   "execution_count": null,
   "metadata": {},
   "outputs": [],
   "source": [
    " "
   ]
  }
 ],
 "metadata": {
  "hide_input": false,
  "kernelspec": {
   "display_name": "Python 3",
   "language": "python",
   "name": "python3"
  },
  "language_info": {
   "codemirror_mode": {
    "name": "ipython",
    "version": 3
   },
   "file_extension": ".py",
   "mimetype": "text/x-python",
   "name": "python",
   "nbconvert_exporter": "python",
   "pygments_lexer": "ipython3",
   "version": "3.6.5"
  }
 },
 "nbformat": 4,
 "nbformat_minor": 5
}
