{
 "cells": [
  {
   "cell_type": "code",
   "execution_count": 5,
   "metadata": {},
   "outputs": [
    {
     "ename": "SyntaxError",
     "evalue": "invalid syntax (<ipython-input-5-0e7a7ffb721a>, line 10)",
     "output_type": "error",
     "traceback": [
      "\u001b[1;36m  File \u001b[1;32m\"<ipython-input-5-0e7a7ffb721a>\"\u001b[1;36m, line \u001b[1;32m10\u001b[0m\n\u001b[1;33m    class Engine:\u001b[0m\n\u001b[1;37m        ^\u001b[0m\n\u001b[1;31mSyntaxError\u001b[0m\u001b[1;31m:\u001b[0m invalid syntax\n"
     ]
    }
   ],
   "source": [
    "class tyres:\n",
    "    def __init__ (self, branch, belted_bias, opt_pressure):\n",
    "        self.branch=branch\n",
    "        self.belted_bias=belted_bias\n",
    "        self.opt_pressure=opt_pressure\n",
    "        \n",
    "    def __str__ (self):                  ##__str__ it can be used if you dont want ot define a method name but want to execute it \n",
    "        return(\"Tyres: \\n \\tbranch : \"+ self.branch+ \"\\n \\tbelted bias :\" + str(self.belted_bias +\"\\n \\toptimum pressure : \"+str(self.opt_pressure)\n",
    "                                                                                                                   \n",
    "class Engine:\n",
    "    def __init__ (self,fuel_type,noise_level):\n",
    "        self.fuel_type = fuel_type\n",
    "        self.noise_level = noise_level\n",
    "     \n",
    "    def __str__ (self):\n",
    "        return(\"Engine : \\n \\tfuel type :\" + self.fuel_type +\"\\n \\tnoise level : \" + self.noise_level)\n",
    "     \n",
    "                                                                                                                                 \n",
    "                                                                                                                                 \n",
    "class Body:\n",
    "    def __init__ (self, size):\n",
    "        self.size = size\n",
    "\n",
    "    def __str__ (self):\n",
    "        return(\"body : \\n \\tsize : \" + self.size)\n",
    "                                                                                                                                 \n",
    "                                                                                                                                 \n",
    "class car:\n",
    "    def __init__(self,tyres,Engine,Body):\n",
    "        self.tyres=tyres\n",
    "        self.Engine=Engine\n",
    "        self.Body=Body\n",
    "                                                                                                                                 \n",
    "    def __str__ (self):\n",
    "        return (str(self.tyres) +'\\n' + str(self.Engine) +'\\n' + str(self.Body) )\n",
    "                                                                                                                                 \n",
    "t=tyre\n",
    "e=Engine\n",
    "b=Body\n",
    "\n",
    "c=car(t,e,b)\n",
    "\n",
    "print(c)"
   ]
  },
  {
   "cell_type": "code",
   "execution_count": null,
   "metadata": {},
   "outputs": [],
   "source": []
  }
 ],
 "metadata": {
  "hide_input": false,
  "kernelspec": {
   "display_name": "Python 3",
   "language": "python",
   "name": "python3"
  },
  "language_info": {
   "codemirror_mode": {
    "name": "ipython",
    "version": 3
   },
   "file_extension": ".py",
   "mimetype": "text/x-python",
   "name": "python",
   "nbconvert_exporter": "python",
   "pygments_lexer": "ipython3",
   "version": "3.6.5"
  }
 },
 "nbformat": 4,
 "nbformat_minor": 5
}
